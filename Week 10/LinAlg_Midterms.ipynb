{
  "nbformat": 4,
  "nbformat_minor": 0,
  "metadata": {
    "kernelspec": {
      "display_name": "Python 3",
      "language": "python",
      "name": "python3"
    },
    "language_info": {
      "codemirror_mode": {
        "name": "ipython",
        "version": 3
      },
      "file_extension": ".py",
      "mimetype": "text/x-python",
      "name": "python",
      "nbconvert_exporter": "python",
      "pygments_lexer": "ipython3",
      "version": "3.8.3"
    },
    "colab": {
      "name": "LinAlg-Midterms.ipynb",
      "provenance": [],
      "include_colab_link": true
    }
  },
  "cells": [
    {
      "cell_type": "markdown",
      "metadata": {
        "id": "view-in-github",
        "colab_type": "text"
      },
      "source": [
        "<a href=\"https://colab.research.google.com/github/dyjdlopez/linearAlgebra2021/blob/main/Week%2010/LinAlg_Midterms.ipynb\" target=\"_parent\"><img src=\"https://colab.research.google.com/assets/colab-badge.svg\" alt=\"Open In Colab\"/></a>"
      ]
    },
    {
      "cell_type": "markdown",
      "metadata": {
        "id": "SnCypWooLH5K"
      },
      "source": [
        "<h1>Linear Algebra (CpE210A)"
      ]
    },
    {
      "cell_type": "markdown",
      "metadata": {
        "id": "q7S68YOXLH5P"
      },
      "source": [
        "<h3>Midterms Project"
      ]
    },
    {
      "cell_type": "markdown",
      "metadata": {
        "id": "rJs6AiysLH5P"
      },
      "source": [
        "Coded and submitted by:<br>\n",
        "<i>LastName, FirstName MI.<br>\n",
        "    Student Number <br>\n",
        "   Section </i>"
      ]
    },
    {
      "cell_type": "markdown",
      "metadata": {
        "id": "9iiimW8FLH5P"
      },
      "source": [
        "Directions\n",
        "This Jupyter Notebook will serve as your base code for your Midterm Project. You must further format and provide complete discussion on the given topic. \n",
        "- Provide all necessary explanations for specific code blocks. \n",
        "- Provide illustrations for key results.\n",
        "- Observe clean code (intuitive variable names, proper commenting, proper code spacing)\n",
        "- Provide a summary discussion at the end\n",
        "\n",
        "Failure to use this format or failure to update the document will be given a deduction equivalent to 50% of the original score. "
      ]
    },
    {
      "cell_type": "markdown",
      "metadata": {
        "id": "gbvxh3EILH5Q"
      },
      "source": [
        "### Case"
      ]
    },
    {
      "cell_type": "markdown",
      "metadata": {
        "id": "Kde5dZmHLH5Q"
      },
      "source": [
        "Bebang is back to consult you about her business. Furthering her data analytics initiative she asks you for help to compute some relevant data. Now she is asking you to compute and visualize her sales and costs for the past year. She has given you the datasets attached to her request."
      ]
    },
    {
      "cell_type": "markdown",
      "metadata": {
        "id": "2Ky38OfILH5Q"
      },
      "source": [
        "### Problem"
      ]
    },
    {
      "cell_type": "markdown",
      "metadata": {
        "id": "31g9gkCELH5Q"
      },
      "source": [
        "State and explain Bebang's problem here and provide the deliverables."
      ]
    },
    {
      "cell_type": "markdown",
      "metadata": {
        "id": "_4v9UlIcLH5R"
      },
      "source": [
        "# Proof of Concept"
      ]
    },
    {
      "cell_type": "markdown",
      "metadata": {
        "id": "gPQvcAmNLH5R"
      },
      "source": [
        "Now that you have a grasp on the requirements we need to start with making a program to prove that her problem is solvable. As a Linear Algebra student, we will be focusin on applying vector operations to meet her needs. First, we need to import her data. We will use the `pandas` library for this. For more information you can look into their documentation [here](https://pandas.pydata.org/)."
      ]
    },
    {
      "cell_type": "code",
      "metadata": {
        "id": "Q6hkQomrLH5R"
      },
      "source": [
        "import pandas as pd\n",
        "\n",
        "file_prices = \"bebang prices.csv\"\n",
        "file_sales = \"bebang sales.csv\"\n",
        "\n",
        "df_prices = pd.read_csv(file_prices, index_col=0)\n",
        "df_sales = pd.read_csv(file_sales)\n",
        "\n",
        "\n",
        "## Let's check what's in df_prices\n",
        "df_prices"
      ],
      "execution_count": null,
      "outputs": []
    },
    {
      "cell_type": "code",
      "metadata": {
        "id": "ewYnNn1_LH5S"
      },
      "source": [
        "## Let's check the sales dataframe\n",
        "df_sales"
      ],
      "execution_count": null,
      "outputs": []
    },
    {
      "cell_type": "markdown",
      "metadata": {
        "id": "BfFBtpfxLH5S"
      },
      "source": [
        "## Part 1: Monthly Sales"
      ]
    },
    {
      "cell_type": "code",
      "metadata": {
        "id": "lO2HWhWNLH5S"
      },
      "source": [
        "import numpy as np\n",
        "### Vectorizing the data\n",
        "\n",
        "sales_mat = np.array(df_sales.set_index('flavor'))\n",
        "prices_mat = np.array(df_prices)[0] ## reshape this vector to the appropriate size\n",
        "costs_mat = np.array(df_prices)[1] ## reshape this vector to the appropriate size\n",
        "\n",
        "\n",
        "## Do not alter these lines\n",
        "print(sales_mat.shape)\n",
        "print(prices_mat.shape)\n",
        "print(costs_mat.shape)\n",
        "# Expected Output\n",
        "# (12, 12)\n",
        "# (12, 1)\n",
        "# (12, 1)"
      ],
      "execution_count": null,
      "outputs": []
    },
    {
      "cell_type": "markdown",
      "metadata": {
        "id": "9-L807YOLH5T"
      },
      "source": [
        "#### Formulas"
      ]
    },
    {
      "cell_type": "markdown",
      "metadata": {
        "id": "nUbleZODLH5T"
      },
      "source": [
        "Take note that the fomula for revenue is: <br>\n",
        "$revenue = sales * price $ <br>\n",
        "In this case, think that revenue, sales, and price are vectors instead of individual values <br>\n",
        "The formula of cost per item sold is: <br>\n",
        "$cost_{sold} = sales * cost$ <br>\n",
        "The formula for profit is: <br>\n",
        "$profit = revenue - cost_{sold}$ <br>\n",
        "Solving for the monthly profit will be the sum of all profits made on that month."
      ]
    },
    {
      "cell_type": "code",
      "metadata": {
        "id": "P0LLZNB-LH5T"
      },
      "source": [
        "#Create a function that *returns* and prints the monthly sales and profit for each month \n",
        "def monthly_sales(price, cost, sales):\n",
        "    monthly_revenue = ## YOUR CODE HERE\n",
        "    monthly_costs = ## YOUR CODE HERE\n",
        "    monthly_profits = ## YOUR CODE HERE  \n",
        "    return monthly_revenue.flatten(), monthly_costs.flatten(), monthly_profits.flatten()"
      ],
      "execution_count": null,
      "outputs": []
    },
    {
      "cell_type": "code",
      "metadata": {
        "id": "0LGNVsfsLH5T"
      },
      "source": [
        "### Do not alter this cell\n",
        "month_rev, month_cost, month_profit = monthly_sales(prices_mat, costs_mat, sales_mat)\n",
        "### print the values"
      ],
      "execution_count": null,
      "outputs": []
    },
    {
      "cell_type": "markdown",
      "metadata": {
        "id": "4WnrnN97LH5T"
      },
      "source": [
        "## Part 2: Flavor Sales"
      ]
    },
    {
      "cell_type": "code",
      "metadata": {
        "id": "qA5UviYjLH5T"
      },
      "source": [
        "#Create a function that *returns* and prints the flavor profits for the whole year \n",
        "def flavor_sales(price, cost, sales):\n",
        "    flavor_revenue = ## YOUR CODE HERE\n",
        "    flavor_costs = ## YOUR CODE HERE\n",
        "    flavor_profits = ## YOUR CODE HERE  \n",
        "    return flavor_profits.flatten()\n",
        "\n"
      ],
      "execution_count": null,
      "outputs": []
    },
    {
      "cell_type": "code",
      "metadata": {
        "id": "yYLRLchgLH5U"
      },
      "source": [
        "### Do not alter this cell\n",
        "flavor_profit = flavor_sales(prices_mat, costs_mat, sales_mat)\n",
        "### print the values"
      ],
      "execution_count": null,
      "outputs": []
    },
    {
      "cell_type": "code",
      "metadata": {
        "id": "o7i7fpt1LH5U"
      },
      "source": [
        "### identify the best-selling and least-selling flavors. You can use np.sort() or np.argmax() for this.\n",
        "best_3_flavors = ### YOUR CODE HERE\n",
        "worst_3_flavors = ### YOUR CODE HERE"
      ],
      "execution_count": null,
      "outputs": []
    },
    {
      "cell_type": "markdown",
      "metadata": {
        "id": "pQdmsw8jLH5U"
      },
      "source": [
        "## Part 3: Visualizing the Data (Optional for +40%)\n",
        "You can try to visualize the data in the most comprehensible chart that you can use."
      ]
    },
    {
      "cell_type": "code",
      "metadata": {
        "id": "XY6z5xvfLH5U"
      },
      "source": [
        "import matplotlib.pyplot as plt\n",
        "import matplotlib\n",
        "import seaborn as sns\n",
        "\n",
        "%matplotlib inline"
      ],
      "execution_count": null,
      "outputs": []
    },
    {
      "cell_type": "markdown",
      "metadata": {
        "id": "3_b06v7FLH5U"
      },
      "source": [
        "#### Entire Dataset"
      ]
    },
    {
      "cell_type": "code",
      "metadata": {
        "id": "whgU7kEjLH5V"
      },
      "source": [
        ""
      ],
      "execution_count": null,
      "outputs": []
    },
    {
      "cell_type": "markdown",
      "metadata": {
        "id": "TnRrvdn0LH5V"
      },
      "source": [
        "#### Monthly Sales"
      ]
    },
    {
      "cell_type": "code",
      "metadata": {
        "id": "4r7kCkm9LH5V"
      },
      "source": [
        ""
      ],
      "execution_count": null,
      "outputs": []
    },
    {
      "cell_type": "markdown",
      "metadata": {
        "id": "qQl5kt1oLH5V"
      },
      "source": [
        "#### Flavor Sales"
      ]
    },
    {
      "cell_type": "code",
      "metadata": {
        "id": "09csCLluLH5V"
      },
      "source": [
        ""
      ],
      "execution_count": null,
      "outputs": []
    },
    {
      "cell_type": "markdown",
      "metadata": {
        "id": "m09WIdTVLH5V"
      },
      "source": [
        "## Part 4: Business Recommendation and Conclusion\n",
        "Present the findings of your data analysis and provide recommendations"
      ]
    },
    {
      "cell_type": "markdown",
      "metadata": {
        "id": "7RvqmzHeLH5V"
      },
      "source": [
        "Add your statement here"
      ]
    }
  ]
}