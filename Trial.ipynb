{
  "nbformat": 4,
  "nbformat_minor": 0,
  "metadata": {
    "colab": {
      "name": "Trial.ipynb",
      "provenance": [],
      "authorship_tag": "ABX9TyPwewLrEtRat6PAQpZ+2bbZ",
      "include_colab_link": true
    },
    "kernelspec": {
      "name": "python3",
      "display_name": "Python 3"
    },
    "language_info": {
      "name": "python"
    }
  },
  "cells": [
    {
      "cell_type": "markdown",
      "metadata": {
        "id": "view-in-github",
        "colab_type": "text"
      },
      "source": [
        "<a href=\"https://colab.research.google.com/github/dyjdlopez/linearAlgebra2021/blob/main/Trial.ipynb\" target=\"_parent\"><img src=\"https://colab.research.google.com/assets/colab-badge.svg\" alt=\"Open In Colab\"/></a>"
      ]
    },
    {
      "cell_type": "markdown",
      "metadata": {
        "id": "IDv5w6ji5IIe"
      },
      "source": [
        "#Intro to Python"
      ]
    },
    {
      "cell_type": "markdown",
      "metadata": {
        "id": "UgiRX4_H5hSe"
      },
      "source": [
        "###Demo 1"
      ]
    },
    {
      "cell_type": "code",
      "metadata": {
        "colab": {
          "base_uri": "https://localhost:8080/"
        },
        "id": "Ixwrv9Ez44qD",
        "outputId": "47123a49-9e65-4a77-a6ae-a18fb1a33ef9"
      },
      "source": [
        "x = \"Sally\"  # This is a type of string\n",
        "x = int(4.585)\n",
        "x = \"John\"\n",
        "y = 'Ana'\n",
        "print(type(x))\n",
        "print(type(y))"
      ],
      "execution_count": null,
      "outputs": [
        {
          "output_type": "stream",
          "text": [
            "<class 'str'>\n",
            "<class 'str'>\n"
          ],
          "name": "stdout"
        }
      ]
    },
    {
      "cell_type": "code",
      "metadata": {
        "colab": {
          "base_uri": "https://localhost:8080/"
        },
        "id": "zmDB4vPd8Fuz",
        "outputId": "f12a38ab-f38f-450a-9f8c-c240e92221b1"
      },
      "source": [
        "x, y, z = 'one', 'two', 'three'\n",
        "print(x)\n",
        "print(y)\n",
        "print(z)"
      ],
      "execution_count": null,
      "outputs": [
        {
          "output_type": "stream",
          "text": [
            "one\n",
            "two\n",
            "three\n"
          ],
          "name": "stdout"
        }
      ]
    },
    {
      "cell_type": "code",
      "metadata": {
        "colab": {
          "base_uri": "https://localhost:8080/"
        },
        "id": "02jvi8MQ8bhi",
        "outputId": "1b6559b8-8015-453d-fa9d-e6d25d4dda9e"
      },
      "source": [
        "x=y=z='four'\n",
        "print(x)\n",
        "print(y)\n",
        "print(z)"
      ],
      "execution_count": null,
      "outputs": [
        {
          "output_type": "stream",
          "text": [
            "four\n",
            "four\n",
            "four\n"
          ],
          "name": "stdout"
        }
      ]
    },
    {
      "cell_type": "code",
      "metadata": {
        "colab": {
          "base_uri": "https://localhost:8080/"
        },
        "id": "NyjZ2MmL867Z",
        "outputId": "5986e25f-2456-46de-8efc-c2d1c4bdc058"
      },
      "source": [
        "x = \"enjoying\" # This is type of string\n",
        "print(\"Python programming is\" \" \" + x)"
      ],
      "execution_count": null,
      "outputs": [
        {
          "output_type": "stream",
          "text": [
            "Python programming is enjoying\n"
          ],
          "name": "stdout"
        }
      ]
    },
    {
      "cell_type": "code",
      "metadata": {
        "colab": {
          "base_uri": "https://localhost:8080/"
        },
        "id": "YZl92bNU9v--",
        "outputId": "faab9560-3235-4bca-f238-eb1f68cac345"
      },
      "source": [
        "x = \"enjoying\"\n",
        "y = 'Python programming is'\n",
        "print(y+ x)"
      ],
      "execution_count": null,
      "outputs": [
        {
          "output_type": "stream",
          "text": [
            "Python programming isenjoying\n"
          ],
          "name": "stdout"
        }
      ]
    },
    {
      "cell_type": "code",
      "metadata": {
        "colab": {
          "base_uri": "https://localhost:8080/"
        },
        "id": "JfgjxwyK-xpp",
        "outputId": "f68ceea5-9f60-469c-8e1e-4d47f1d0fad4"
      },
      "source": [
        "x = 6\n",
        "y = 7\n",
        "y%=x #This is the same as y = y%x\n",
        "print(y) "
      ],
      "execution_count": null,
      "outputs": [
        {
          "output_type": "stream",
          "text": [
            "1\n"
          ],
          "name": "stdout"
        }
      ]
    },
    {
      "cell_type": "code",
      "metadata": {
        "colab": {
          "base_uri": "https://localhost:8080/"
        },
        "id": "PLyX7qyRBQDK",
        "outputId": "b4a383a1-4e50-4c6a-e7f5-493a05351e5f"
      },
      "source": [
        "x = float(6)\n",
        "y = 7\n",
        "x is not y"
      ],
      "execution_count": null,
      "outputs": [
        {
          "output_type": "execute_result",
          "data": {
            "text/plain": [
              "True"
            ]
          },
          "metadata": {},
          "execution_count": 32
        }
      ]
    },
    {
      "cell_type": "code",
      "metadata": {
        "id": "XUEDBzMp-xbO"
      },
      "source": [
        ""
      ],
      "execution_count": null,
      "outputs": []
    }
  ]
}